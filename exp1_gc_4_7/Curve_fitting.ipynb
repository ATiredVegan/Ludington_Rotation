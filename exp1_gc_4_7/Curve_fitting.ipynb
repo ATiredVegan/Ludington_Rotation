{
 "cells": [
  {
   "cell_type": "code",
   "execution_count": 1,
   "metadata": {},
   "outputs": [],
   "source": [
    "import numpy as np\n",
    "import random\n",
    "import math\n",
    "from scipy.optimize import curve_fit\n",
    "import matplotlib.pyplot as plt \n",
    "from scipy.optimize import curve_fit\n",
    "import pandas as pd\n",
    "import seaborn as sns; sns.set()"
   ]
  },
  {
   "cell_type": "markdown",
   "metadata": {},
   "source": [
    "# Curve Fitting for L. Plantarum GFP/mCherry \n",
    "1. Define sigmoid function in two forms \n",
    "2. Fit data to sigmoid function to find r and k values \n",
    "3. Find dilution rate to keep OD basically constant"
   ]
  },
  {
   "cell_type": "code",
   "execution_count": null,
   "metadata": {},
   "outputs": [],
   "source": [
    "#Defining logistic function\n",
    "def sigmoid(x, L, x0, k):\n",
    "     y = L / (1 + np.exp(-k*(x-x0)))\n",
    "     return y\n",
    "#Defining logistic function, but in log form\n",
    "def log_sigmoid(x,L,x0,k):\n",
    "    y=math.log(L)-math.log(np.exp(-k*(math.log(x)-x0)))\n",
    "    return y"
   ]
  }
 ],
 "metadata": {
  "kernelspec": {
   "display_name": "Python 3",
   "language": "python",
   "name": "python3"
  },
  "language_info": {
   "codemirror_mode": {
    "name": "ipython",
    "version": 3
   },
   "file_extension": ".py",
   "mimetype": "text/x-python",
   "name": "python",
   "nbconvert_exporter": "python",
   "pygments_lexer": "ipython3",
   "version": "3.6.10"
  }
 },
 "nbformat": 4,
 "nbformat_minor": 4
}
